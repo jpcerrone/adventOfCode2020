{
  "nbformat": 4,
  "nbformat_minor": 0,
  "metadata": {
    "colab": {
      "name": "Advent of Code 2020",
      "provenance": [],
      "collapsed_sections": [],
      "authorship_tag": "ABX9TyO3q4WiW9Saf2cXbNfF2dR7",
      "include_colab_link": true
    },
    "kernelspec": {
      "name": "python3",
      "display_name": "Python 3"
    }
  },
  "cells": [
    {
      "cell_type": "markdown",
      "metadata": {
        "id": "view-in-github",
        "colab_type": "text"
      },
      "source": [
        "<a href=\"https://colab.research.google.com/github/jpcerrone/adventOfCode2020/blob/main/Advent_of_Code_2020.ipynb\" target=\"_parent\"><img src=\"https://colab.research.google.com/assets/colab-badge.svg\" alt=\"Open In Colab\"/></a>"
      ]
    },
    {
      "cell_type": "markdown",
      "metadata": {
        "id": "aAx3Jlkxw2t8"
      },
      "source": [
        "# Day 1:"
      ]
    },
    {
      "cell_type": "code",
      "metadata": {
        "id": "rKEXCTMoxI9r"
      },
      "source": [
        "#Numbers Array:\r\n",
        "url = 'https://raw.githubusercontent.com/jpcerrone/adventOfCode2020/main/input'\r\n",
        "myfile = requests.get(url)\r\n",
        "numbersArray = list(map(int,myfile.content.decode().split()))\r\n",
        "#Test Array:\r\n",
        "#numbersArray = [2,1000,1020,5]"
      ],
      "execution_count": 69,
      "outputs": []
    },
    {
      "cell_type": "markdown",
      "metadata": {
        "id": "gwyazxcmw_Fk"
      },
      "source": [
        "Part 1:\r\n",
        "Find the two entries that sum to 2020; what do you get if you multiply them together?"
      ]
    },
    {
      "cell_type": "code",
      "metadata": {
        "colab": {
          "base_uri": "https://localhost:8080/"
        },
        "id": "aHoPtSG7xS3f",
        "outputId": "be58d1bd-8128-4eb6-bcc3-3e6f3ef295f7"
      },
      "source": [
        "for i in range(len(numbersArray)-1):\r\n",
        "    for j in range(i+1,len(numbersArray)):\r\n",
        "        if ((numbersArray[i] + numbersArray[j]) == 2020):\r\n",
        "          print(numbersArray[i]*numbersArray[j])"
      ],
      "execution_count": 70,
      "outputs": [
        {
          "output_type": "stream",
          "text": [
            "73371\n"
          ],
          "name": "stdout"
        }
      ]
    },
    {
      "cell_type": "markdown",
      "metadata": {
        "id": "49eenIZdxB_e"
      },
      "source": [
        "Part 2:\r\n",
        "what is the product of the three entries that sum to 2020?"
      ]
    },
    {
      "cell_type": "code",
      "metadata": {
        "colab": {
          "base_uri": "https://localhost:8080/"
        },
        "id": "47X5tWp_9MEe",
        "outputId": "fd72ab38-b716-4398-e043-5b85a2511740"
      },
      "source": [
        "for i in range(len(numbersArray)-2):\r\n",
        "    for j in range(i+1,len(numbersArray)-1):\r\n",
        "        for k in range(j+1,len(numbersArray)):\r\n",
        "          if ((numbersArray[i] + numbersArray[j] + numbersArray[k]) == 2020):\r\n",
        "            print(numbersArray[i]*numbersArray[j]*numbersArray[k])"
      ],
      "execution_count": 71,
      "outputs": [
        {
          "output_type": "stream",
          "text": [
            "127642310\n"
          ],
          "name": "stdout"
        }
      ]
    },
    {
      "cell_type": "markdown",
      "metadata": {
        "id": "kmFJotrFyxt9"
      },
      "source": [
        "# Day 2"
      ]
    }
  ]
}